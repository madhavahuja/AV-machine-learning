{
 "cells": [
  {
   "cell_type": "code",
   "execution_count": null,
   "metadata": {},
   "outputs": [],
   "source": [
    "import pandas as pd\n",
    "\n",
    "import matplotlib.pyplot as plt\n",
    "\n",
    "import seaborn as sns\n",
    "\n",
    "data = pd.read_csv(\"https://raw.githubusercontent.com/Shreyas3108/Weather/master/weather.csv \")\n",
    "\n",
    "data = data.dropna()\n",
    "\n",
    "sns.distplot(data['Rainfall'], bins= 20)\n",
    "\n",
    "sns.kdeplot(data['Sunshine'], shade=True)\n",
    "\n",
    "sns.distplot(data['WindGustSpeed'], hist=False)\n",
    "\n",
    "sns.countplot(data['RainToday'])\n",
    "\n",
    "sns.boxplot(data['MaxTemp'])"
   ]
  }
 ],
 "metadata": {},
 "nbformat": 4,
 "nbformat_minor": 2
}
